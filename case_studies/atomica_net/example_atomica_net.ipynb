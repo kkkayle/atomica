{
 "cells": [
  {
   "cell_type": "markdown",
   "metadata": {},
   "source": [
    "# Disease pathways in ATOMICANets\n",
    "\n",
    "This Jupyter notebook provides an example of how you load ATOMICANets and analyze largest disease pathways in the network. The five processed ATOMICANets can be downloaded from [Harvard Dataverse](https://doi.org/10.7910/DVN/4DUBJX).\n",
    "\n",
    "This notebook outputs the largest pathway components for the three diseases shown in the paper: asthma in ATOMICANet-Lipid, myeloid leukemia in ATOMICANet-Ion, hypertrophic cardiomyopathy in ATOMICANet-Small-Molecule."
   ]
  },
  {
   "cell_type": "code",
   "execution_count": 1,
   "metadata": {},
   "outputs": [],
   "source": [
    "import networkx as nx"
   ]
  },
  {
   "cell_type": "code",
   "execution_count": null,
   "metadata": {},
   "outputs": [
    {
     "name": "stdout",
     "output_type": "stream",
     "text": [
      "Number of nodes in ATOMICANet associated with disease:  43\n",
      "Number of nodes in largest connected component:  10\n",
      "Relative size of largest connected component:  0.23255813953488372\n",
      "Proteins in largest connected component:  SCN7A, SCN1A, SCN3A, SCN8A, SCN4A, SCN5A, SCN9A, SCN10A, SCN2A, SCN11A\n"
     ]
    }
   ],
   "source": [
    "chosen_disease = \"asthma\"\n",
    "\n",
    "graph_path = \"/path/to/atomica_net/graphs/ATOMICANet_lipid.gml\"\n",
    "graph = nx.read_gml(graph_path)\n",
    "\n",
    "nodes_in_disease = []\n",
    "for node in graph.nodes():\n",
    "    diseases = graph.nodes[node]['diseases'].split(\", \")\n",
    "    if chosen_disease in diseases:\n",
    "        nodes_in_disease.append(node)\n",
    "largest_connected_component = max(nx.connected_components(graph.subgraph(nodes_in_disease)), key=len)\n",
    "\n",
    "print(\"Number of nodes in ATOMICANet associated with disease: \", len(nodes_in_disease))\n",
    "print(\"Number of nodes in largest connected component: \", len(largest_connected_component))\n",
    "print(\"Relative size of largest connected component: \", len(largest_connected_component)/len(nodes_in_disease))\n",
    "print(\"Proteins in largest connected component: \", \", \".join([graph.nodes[node]['gene'].split(\" \")[0] for node in largest_connected_component]))"
   ]
  },
  {
   "cell_type": "code",
   "execution_count": null,
   "metadata": {},
   "outputs": [
    {
     "name": "stdout",
     "output_type": "stream",
     "text": [
      "Number of nodes in ATOMICANet associated with disease:  53\n",
      "Number of nodes in largest connected component:  12\n",
      "Relative size of largest connected component:  0.22641509433962265\n",
      "Proteins in largest connected component:  PRKCA, TET2, PRKD1, WT1, PRKCE, POLE, PRKD3, PRKCH, DNMT1, PRKCB, PHF6, PRKCG\n"
     ]
    }
   ],
   "source": [
    "chosen_disease = \"myeloid leukemia\"\n",
    "\n",
    "graph_path = \"/path/to/atomica_net/graphs/ATOMICANet_ion.gml\"\n",
    "graph = nx.read_gml(graph_path)\n",
    "\n",
    "nodes_in_disease = []\n",
    "for node in graph.nodes():\n",
    "    diseases = graph.nodes[node]['diseases'].split(\", \")\n",
    "    if chosen_disease in diseases:\n",
    "        nodes_in_disease.append(node)\n",
    "largest_connected_component = max(nx.connected_components(graph.subgraph(nodes_in_disease)), key=len)\n",
    "\n",
    "print(\"Number of nodes in ATOMICANet associated with disease: \", len(nodes_in_disease))\n",
    "print(\"Number of nodes in largest connected component: \", len(largest_connected_component))\n",
    "print(\"Relative size of largest connected component: \", len(largest_connected_component)/len(nodes_in_disease))\n",
    "print(\"Proteins in largest connected component: \", \", \".join([graph.nodes[node]['gene'].split(\" \")[0] for node in largest_connected_component]))"
   ]
  },
  {
   "cell_type": "code",
   "execution_count": null,
   "metadata": {},
   "outputs": [
    {
     "name": "stdout",
     "output_type": "stream",
     "text": [
      "Number of nodes in ATOMICANet associated with disease:  45\n",
      "Number of nodes in largest connected component:  7\n",
      "Relative size of largest connected component:  0.15555555555555556\n",
      "Proteins in largest connected component:  HRAS, MYH6, MYH7B, ACTB, MARK3, ACTG1, ACTC1\n"
     ]
    }
   ],
   "source": [
    "chosen_disease = \"hypertrophic cardiomyopathy\"\n",
    "\n",
    "graph_path = \"/path/to/atomica_net/graphs/ATOMICANet_small_molecule.gml\"\n",
    "graph = nx.read_gml(graph_path)\n",
    "\n",
    "nodes_in_disease = []\n",
    "for node in graph.nodes():\n",
    "    diseases = graph.nodes[node]['diseases'].split(\", \")\n",
    "    if chosen_disease in diseases:\n",
    "        nodes_in_disease.append(node)\n",
    "largest_connected_component = max(nx.connected_components(graph.subgraph(nodes_in_disease)), key=len)\n",
    "\n",
    "print(\"Number of nodes in ATOMICANet associated with disease: \", len(nodes_in_disease))\n",
    "print(\"Number of nodes in largest connected component: \", len(largest_connected_component))\n",
    "print(\"Relative size of largest connected component: \", len(largest_connected_component)/len(nodes_in_disease))\n",
    "print(\"Proteins in largest connected component: \", \", \".join([graph.nodes[node]['gene'].split(\" \")[0] for node in largest_connected_component]))"
   ]
  }
 ],
 "metadata": {
  "kernelspec": {
   "display_name": "Python 3",
   "language": "python",
   "name": "python3"
  },
  "language_info": {
   "codemirror_mode": {
    "name": "ipython",
    "version": 3
   },
   "file_extension": ".py",
   "mimetype": "text/x-python",
   "name": "python",
   "nbconvert_exporter": "python",
   "pygments_lexer": "ipython3",
   "version": "3.9.15"
  }
 },
 "nbformat": 4,
 "nbformat_minor": 2
}
